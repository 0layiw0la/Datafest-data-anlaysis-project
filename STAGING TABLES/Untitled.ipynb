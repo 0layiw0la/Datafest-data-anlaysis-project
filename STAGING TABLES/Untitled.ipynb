{
 "cells": [
  {
   "cell_type": "markdown",
   "id": "2ca4a5c9",
   "metadata": {},
   "source": [
    "Importing Libraries"
   ]
  },
  {
   "cell_type": "code",
   "execution_count": 1,
   "id": "3bcf5f38",
   "metadata": {},
   "outputs": [],
   "source": [
    "import pandas as pd\n",
    "import numpy as np\n",
    "import matplotlib.pyplot as plt"
   ]
  },
  {
   "cell_type": "markdown",
   "id": "e4cd1d7f",
   "metadata": {},
   "source": [
    "Importing data and converting into dataframes"
   ]
  },
  {
   "cell_type": "code",
   "execution_count": 27,
   "id": "45e04859",
   "metadata": {},
   "outputs": [],
   "source": [
    "# Importing crop data....................................\n",
    "crop_data = pd.read_csv(r'C:\\Users\\USER\\Desktop\\work\\DATAFESTDATATHON2023\\STAGING TABLES\\Crop data staging table..csv')\n",
    "crop_dataframe = pd.DataFrame(crop_data)\n",
    "# .................................................\n",
    "\n",
    "# Importing sensor data......................................\n",
    "sensor_data = pd.read_csv(r'C:\\Users\\USER\\Desktop\\work\\DATAFESTDATATHON2023\\STAGING TABLES\\sensor data table.csv')\n",
    "sensor_dataframe = pd.DataFrame(sensor_data)"
   ]
  },
  {
   "cell_type": "code",
   "execution_count": 28,
   "id": "28a16176",
   "metadata": {},
   "outputs": [
    {
     "data": {
      "text/plain": [
       "TIMESTAMP            0\n",
       "CROP_TYPE            0\n",
       "CROP_YIELD           0\n",
       "GROWTH_STAGE    210126\n",
       "PEST_ISSUE      210637\n",
       "dtype: int64"
      ]
     },
     "execution_count": 28,
     "metadata": {},
     "output_type": "execute_result"
    }
   ],
   "source": [
    "crop_dataframe.isna().sum()"
   ]
  },
  {
   "cell_type": "code",
   "execution_count": 37,
   "id": "79f8ed00",
   "metadata": {},
   "outputs": [],
   "source": [
    "pd.set_option('display.float_format', '{:.2f}'.format)"
   ]
  },
  {
   "cell_type": "markdown",
   "id": "4e2b3706",
   "metadata": {},
   "source": [
    "<h1><center>CROP YIELD ANALYSIS</center></h1>"
   ]
  },
  {
   "cell_type": "markdown",
   "id": "365f1574",
   "metadata": {},
   "source": [
    "<center><strong><u>AVERAGE YIELD PER CROP</u></strong></center>\n",
    "\n",
    "- On average there is not much difference in crop yield between the crops, with each one having an average between 549 and 550 bushels per acre. An average crop yield of about 550 bu/ac would be considered exceptionally high for both the low yield(carrot) and high yield(sugarcane,corn,cotton,barely,wheat) crops.\n",
    "\n",
    "-\n",
    "\n",
    "- This high yield could be as a result of exceptional farming practices, favorable weather conditions, and possibly the use of advanced crop management techniques or specialized crop varieties. It could also be due to data inaccuracies, there may be need to verify the accuracy of this data."
   ]
  },
  {
   "cell_type": "code",
   "execution_count": 38,
   "id": "2feb89a6",
   "metadata": {},
   "outputs": [
    {
     "data": {
      "text/html": [
       "<div>\n",
       "<style scoped>\n",
       "    .dataframe tbody tr th:only-of-type {\n",
       "        vertical-align: middle;\n",
       "    }\n",
       "\n",
       "    .dataframe tbody tr th {\n",
       "        vertical-align: top;\n",
       "    }\n",
       "\n",
       "    .dataframe thead th {\n",
       "        text-align: right;\n",
       "    }\n",
       "</style>\n",
       "<table border=\"1\" class=\"dataframe\">\n",
       "  <thead>\n",
       "    <tr style=\"text-align: right;\">\n",
       "      <th></th>\n",
       "      <th>CROP_YIELD</th>\n",
       "    </tr>\n",
       "    <tr>\n",
       "      <th>CROP_TYPE</th>\n",
       "      <th></th>\n",
       "    </tr>\n",
       "  </thead>\n",
       "  <tbody>\n",
       "    <tr>\n",
       "      <th>Sugarcane</th>\n",
       "      <td>550.49</td>\n",
       "    </tr>\n",
       "    <tr>\n",
       "      <th>Rice</th>\n",
       "      <td>550.30</td>\n",
       "    </tr>\n",
       "    <tr>\n",
       "      <th>Corn</th>\n",
       "      <td>550.19</td>\n",
       "    </tr>\n",
       "    <tr>\n",
       "      <th>Carrot</th>\n",
       "      <td>550.15</td>\n",
       "    </tr>\n",
       "    <tr>\n",
       "      <th>Potato</th>\n",
       "      <td>550.13</td>\n",
       "    </tr>\n",
       "    <tr>\n",
       "      <th>Cotton</th>\n",
       "      <td>549.96</td>\n",
       "    </tr>\n",
       "    <tr>\n",
       "      <th>Barley</th>\n",
       "      <td>549.89</td>\n",
       "    </tr>\n",
       "    <tr>\n",
       "      <th>Tomato</th>\n",
       "      <td>549.77</td>\n",
       "    </tr>\n",
       "    <tr>\n",
       "      <th>Wheat</th>\n",
       "      <td>549.28</td>\n",
       "    </tr>\n",
       "    <tr>\n",
       "      <th>Soybean</th>\n",
       "      <td>549.07</td>\n",
       "    </tr>\n",
       "  </tbody>\n",
       "</table>\n",
       "</div>"
      ],
      "text/plain": [
       "           CROP_YIELD\n",
       "CROP_TYPE            \n",
       "Sugarcane      550.49\n",
       "Rice           550.30\n",
       "Corn           550.19\n",
       "Carrot         550.15\n",
       "Potato         550.13\n",
       "Cotton         549.96\n",
       "Barley         549.89\n",
       "Tomato         549.77\n",
       "Wheat          549.28\n",
       "Soybean        549.07"
      ]
     },
     "execution_count": 38,
     "metadata": {},
     "output_type": "execute_result"
    }
   ],
   "source": [
    "crop_dataframe[['CROP_TYPE','CROP_YIELD']].groupby('CROP_TYPE').mean().sort_values('CROP_YIELD',ascending=False)"
   ]
  },
  {
   "cell_type": "code",
   "execution_count": null,
   "id": "c769691a",
   "metadata": {},
   "outputs": [],
   "source": []
  },
  {
   "cell_type": "code",
   "execution_count": 39,
   "id": "6dfa6829",
   "metadata": {},
   "outputs": [
    {
     "data": {
      "text/html": [
       "<div>\n",
       "<style scoped>\n",
       "    .dataframe tbody tr th:only-of-type {\n",
       "        vertical-align: middle;\n",
       "    }\n",
       "\n",
       "    .dataframe tbody tr th {\n",
       "        vertical-align: top;\n",
       "    }\n",
       "\n",
       "    .dataframe thead th {\n",
       "        text-align: right;\n",
       "    }\n",
       "</style>\n",
       "<table border=\"1\" class=\"dataframe\">\n",
       "  <thead>\n",
       "    <tr style=\"text-align: right;\">\n",
       "      <th></th>\n",
       "      <th>CROP_YIELD</th>\n",
       "    </tr>\n",
       "    <tr>\n",
       "      <th>CROP_TYPE</th>\n",
       "      <th></th>\n",
       "    </tr>\n",
       "  </thead>\n",
       "  <tbody>\n",
       "    <tr>\n",
       "      <th>Rice</th>\n",
       "      <td>115929520.95</td>\n",
       "    </tr>\n",
       "    <tr>\n",
       "      <th>Potato</th>\n",
       "      <td>115686949.11</td>\n",
       "    </tr>\n",
       "    <tr>\n",
       "      <th>Carrot</th>\n",
       "      <td>115546954.01</td>\n",
       "    </tr>\n",
       "    <tr>\n",
       "      <th>Corn</th>\n",
       "      <td>115515205.13</td>\n",
       "    </tr>\n",
       "    <tr>\n",
       "      <th>Tomato</th>\n",
       "      <td>115284900.49</td>\n",
       "    </tr>\n",
       "    <tr>\n",
       "      <th>Cotton</th>\n",
       "      <td>115217897.82</td>\n",
       "    </tr>\n",
       "    <tr>\n",
       "      <th>Sugarcane</th>\n",
       "      <td>115124089.60</td>\n",
       "    </tr>\n",
       "    <tr>\n",
       "      <th>Barley</th>\n",
       "      <td>115071155.36</td>\n",
       "    </tr>\n",
       "    <tr>\n",
       "      <th>Soybean</th>\n",
       "      <td>114980316.18</td>\n",
       "    </tr>\n",
       "    <tr>\n",
       "      <th>Wheat</th>\n",
       "      <td>114910331.85</td>\n",
       "    </tr>\n",
       "  </tbody>\n",
       "</table>\n",
       "</div>"
      ],
      "text/plain": [
       "            CROP_YIELD\n",
       "CROP_TYPE             \n",
       "Rice      115929520.95\n",
       "Potato    115686949.11\n",
       "Carrot    115546954.01\n",
       "Corn      115515205.13\n",
       "Tomato    115284900.49\n",
       "Cotton    115217897.82\n",
       "Sugarcane 115124089.60\n",
       "Barley    115071155.36\n",
       "Soybean   114980316.18\n",
       "Wheat     114910331.85"
      ]
     },
     "execution_count": 39,
     "metadata": {},
     "output_type": "execute_result"
    }
   ],
   "source": [
    "crop_dataframe[['CROP_TYPE','CROP_YIELD']].groupby('CROP_TYPE').sum().sort_values('CROP_YIELD',ascending=False)"
   ]
  },
  {
   "cell_type": "markdown",
   "id": "0af77109",
   "metadata": {},
   "source": [
    "Due to issues with determining the validity of data, we will find the mean crop yield but at different sensor battery levels."
   ]
  },
  {
   "cell_type": "code",
   "execution_count": 33,
   "id": "eea84f72",
   "metadata": {},
   "outputs": [
    {
     "data": {
      "text/plain": [
       "549.6987473908987"
      ]
     },
     "execution_count": 33,
     "metadata": {},
     "output_type": "execute_result"
    }
   ],
   "source": [
    "sensor_crop = pd.merge(sensor_dataframe,crop_dataframe,on='TIMESTAMP')\n",
    "sensor_crop['CROP_YIELD'][sensor_crop[\"BATTERY_LEVEL\"]>50].mean()"
   ]
  },
  {
   "cell_type": "code",
   "execution_count": 35,
   "id": "76d6aa6a",
   "metadata": {},
   "outputs": [
    {
     "data": {
      "text/plain": [
       "549.7220914544833"
      ]
     },
     "execution_count": 35,
     "metadata": {},
     "output_type": "execute_result"
    }
   ],
   "source": [
    "sensor_crop['CROP_YIELD'][sensor_crop[\"BATTERY_LEVEL\"]>70].mean()"
   ]
  },
  {
   "cell_type": "code",
   "execution_count": null,
   "id": "435d3302",
   "metadata": {},
   "outputs": [],
   "source": []
  }
 ],
 "metadata": {
  "kernelspec": {
   "display_name": "Python 3 (ipykernel)",
   "language": "python",
   "name": "python3"
  },
  "language_info": {
   "codemirror_mode": {
    "name": "ipython",
    "version": 3
   },
   "file_extension": ".py",
   "mimetype": "text/x-python",
   "name": "python",
   "nbconvert_exporter": "python",
   "pygments_lexer": "ipython3",
   "version": "3.10.9"
  }
 },
 "nbformat": 4,
 "nbformat_minor": 5
}
